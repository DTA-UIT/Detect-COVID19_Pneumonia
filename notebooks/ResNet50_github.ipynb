{
  "cells": [
    {
      "cell_type": "code",
      "execution_count": null,
      "metadata": {
        "colab": {
          "base_uri": "https://localhost:8080/"
        },
        "id": "p6eLYawPi5WZ",
        "outputId": "8101fbc8-0ec5-4e52-ff8e-171be46c030b"
      },
      "outputs": [
        {
          "output_type": "stream",
          "name": "stdout",
          "text": [
            "Mounted at /content/drive\n"
          ]
        }
      ],
      "source": [
        "from google.colab import drive\n",
        "drive.mount('/content/drive')"
      ]
    },
    {
      "cell_type": "code",
      "execution_count": null,
      "metadata": {
        "id": "HvrN1LLmJKro"
      },
      "outputs": [],
      "source": [
        "import numpy as np\n",
        "import matplotlib.pyplot as plt\n",
        "import os\n",
        "import seaborn as sns\n",
        "sns.set_style('darkgrid')\n",
        "from sklearn.metrics import confusion_matrix, classification_report\n",
        "from collections import Counter\n",
        "import pickle\n",
        "import datetime\n",
        "\n",
        "import tensorflow as tf\n",
        "from tensorflow.keras.layers import Conv2D,Flatten,MaxPool2D,BatchNormalization,GlobalAveragePooling2D, Dense, Dropout\n",
        "from tensorflow.keras.callbacks import EarlyStopping, ModelCheckpoint, ReduceLROnPlateau\n",
        "from tensorflow.keras.optimizers import Adam\n",
        "from tensorflow.keras.preprocessing.image import ImageDataGenerator\n",
        "from tensorflow.keras.applications import ResNet50V2\n",
        "from keras.models import load_model"
      ]
    },
    {
      "cell_type": "code",
      "execution_count": null,
      "metadata": {
        "id": "49ge4OoX5bX1"
      },
      "outputs": [],
      "source": [
        "ROOT_DIR = _YOUR_DIR_\n",
        "TRAIN_PATH = os.path.join(ROOT_DIR, 'dataset/train')\n",
        "TEST_PATH = os.path.join(ROOT_DIR, 'dataset/test')"
      ]
    },
    {
      "cell_type": "markdown",
      "metadata": {
        "id": "1iivWWhAgjM2"
      },
      "source": [
        "# Image Data Generators"
      ]
    },
    {
      "cell_type": "code",
      "execution_count": null,
      "metadata": {
        "id": "WrjpfEOwrA36"
      },
      "outputs": [],
      "source": [
        "batch_size = 32\n",
        "img_height = 480\n",
        "img_width = 480\n",
        "target_size = (img_height, img_width)"
      ]
    },
    {
      "cell_type": "code",
      "execution_count": null,
      "metadata": {
        "id": "AEpQjT0x4S-x"
      },
      "outputs": [],
      "source": [
        "\n",
        "train_datagen = ImageDataGenerator(\n",
        "        rescale=1./255,\n",
        "        shear_range=0.2,\n",
        "        zoom_range=0.2,\n",
        "        horizontal_flip=False,\n",
        "        validation_split=0.2)\n",
        "test_datagen = ImageDataGenerator(rescale=1./255)"
      ]
    },
    {
      "cell_type": "code",
      "execution_count": null,
      "metadata": {
        "colab": {
          "base_uri": "https://localhost:8080/"
        },
        "id": "DhRmO2bl0H_0",
        "outputId": "1c86029e-933c-43f5-bf10-09c5f7c68e95"
      },
      "outputs": [
        {
          "output_type": "stream",
          "name": "stdout",
          "text": [
            "Found 24104 images belonging to 3 classes.\n",
            "Found 6026 images belonging to 3 classes.\n",
            "Found 400 images belonging to 3 classes.\n"
          ]
        }
      ],
      "source": [
        "train_generator = train_datagen.flow_from_directory(\n",
        "        TRAIN_PATH,\n",
        "        target_size=target_size,\n",
        "        batch_size=batch_size,\n",
        "        class_mode='categorical', \n",
        "        color_mode='rgb',\n",
        "        subset='training')\n",
        "\n",
        "validation_generator = train_datagen.flow_from_directory(\n",
        "    TRAIN_PATH, \n",
        "    target_size=target_size,\n",
        "    batch_size=batch_size,\n",
        "    class_mode='categorical', \n",
        "    color_mode='rgb',\n",
        "    subset='validation') \n",
        "\n",
        "\n",
        "test_generator = test_datagen.flow_from_directory(\n",
        "        TEST_PATH,\n",
        "        target_size=target_size,\n",
        "        batch_size=batch_size,\n",
        "        class_mode='categorical', \n",
        "        color_mode='rgb',\n",
        "        shuffle=False)"
      ]
    },
    {
      "cell_type": "code",
      "execution_count": null,
      "metadata": {
        "id": "J31pnzf81BFu"
      },
      "outputs": [],
      "source": [
        "counter = Counter(train_generator.classes)\n",
        "counter1 = Counter(validation_generator.classes)\n",
        "counter2 = Counter(test_generator.classes)\n",
        "\n",
        "max_val = float(max(counter.values()))\n",
        "class_weights = {class_id : max_val/num_images for class_id, num_images in counter.items()}                     "
      ]
    },
    {
      "cell_type": "code",
      "execution_count": null,
      "metadata": {
        "colab": {
          "base_uri": "https://localhost:8080/"
        },
        "id": "IBy28L2m12RA",
        "outputId": "1d6fd12f-a310-43c8-92f5-e2b8f9290f54"
      },
      "outputs": [
        {
          "output_type": "stream",
          "name": "stdout",
          "text": [
            "{'COVID-19': 0, 'normal': 1, 'pneumonia': 2}\n",
            "Train:  Counter({0: 13192, 1: 6468, 2: 4444})\n",
            "Valid:  Counter({0: 3298, 1: 1617, 2: 1111})\n",
            "Test:  Counter({0: 200, 1: 100, 2: 100})\n",
            "{0: 1.0, 1: 2.0395794681508965, 2: 2.9684968496849686}\n"
          ]
        }
      ],
      "source": [
        "print(train_generator.class_indices)\n",
        "print(\"Train: \", counter)\n",
        "print(\"Valid: \", counter1)\n",
        "print(\"Test: \", counter2)\n",
        "print(class_weights)"
      ]
    },
    {
      "cell_type": "markdown",
      "metadata": {
        "id": "uUmEb9kzieWG"
      },
      "source": [
        "# Create Model"
      ]
    },
    {
      "cell_type": "code",
      "execution_count": null,
      "metadata": {
        "colab": {
          "base_uri": "https://localhost:8080/"
        },
        "id": "9p8cpBnQiduA",
        "outputId": "2d855021-78f5-4985-d2c4-5fe3c751ff14"
      },
      "outputs": [
        {
          "output_type": "stream",
          "name": "stdout",
          "text": [
            "Downloading data from https://storage.googleapis.com/tensorflow/keras-applications/resnet/resnet50v2_weights_tf_dim_ordering_tf_kernels_notop.h5\n",
            "94674944/94668760 [==============================] - 3s 0us/step\n",
            "94683136/94668760 [==============================] - 3s 0us/step\n",
            "0 input_1 - False\n",
            "1 conv1_pad - False\n",
            "2 conv1_conv - False\n",
            "3 pool1_pad - False\n",
            "4 pool1_pool - False\n",
            "5 conv2_block1_preact_bn - False\n",
            "6 conv2_block1_preact_relu - False\n",
            "7 conv2_block1_1_conv - False\n",
            "8 conv2_block1_1_bn - False\n",
            "9 conv2_block1_1_relu - False\n",
            "10 conv2_block1_2_pad - False\n",
            "11 conv2_block1_2_conv - False\n",
            "12 conv2_block1_2_bn - False\n",
            "13 conv2_block1_2_relu - False\n",
            "14 conv2_block1_0_conv - False\n",
            "15 conv2_block1_3_conv - False\n",
            "16 conv2_block1_out - False\n",
            "17 conv2_block2_preact_bn - False\n",
            "18 conv2_block2_preact_relu - False\n",
            "19 conv2_block2_1_conv - False\n",
            "20 conv2_block2_1_bn - False\n",
            "21 conv2_block2_1_relu - False\n",
            "22 conv2_block2_2_pad - False\n",
            "23 conv2_block2_2_conv - False\n",
            "24 conv2_block2_2_bn - False\n",
            "25 conv2_block2_2_relu - False\n",
            "26 conv2_block2_3_conv - False\n",
            "27 conv2_block2_out - False\n",
            "28 conv2_block3_preact_bn - False\n",
            "29 conv2_block3_preact_relu - False\n",
            "30 conv2_block3_1_conv - False\n",
            "31 conv2_block3_1_bn - False\n",
            "32 conv2_block3_1_relu - False\n",
            "33 conv2_block3_2_pad - False\n",
            "34 conv2_block3_2_conv - False\n",
            "35 conv2_block3_2_bn - False\n",
            "36 conv2_block3_2_relu - False\n",
            "37 max_pooling2d - False\n",
            "38 conv2_block3_3_conv - False\n",
            "39 conv2_block3_out - False\n",
            "40 conv3_block1_preact_bn - False\n",
            "41 conv3_block1_preact_relu - False\n",
            "42 conv3_block1_1_conv - False\n",
            "43 conv3_block1_1_bn - False\n",
            "44 conv3_block1_1_relu - False\n",
            "45 conv3_block1_2_pad - False\n",
            "46 conv3_block1_2_conv - False\n",
            "47 conv3_block1_2_bn - False\n",
            "48 conv3_block1_2_relu - False\n",
            "49 conv3_block1_0_conv - False\n",
            "50 conv3_block1_3_conv - False\n",
            "51 conv3_block1_out - False\n",
            "52 conv3_block2_preact_bn - False\n",
            "53 conv3_block2_preact_relu - False\n",
            "54 conv3_block2_1_conv - False\n",
            "55 conv3_block2_1_bn - False\n",
            "56 conv3_block2_1_relu - False\n",
            "57 conv3_block2_2_pad - False\n",
            "58 conv3_block2_2_conv - False\n",
            "59 conv3_block2_2_bn - False\n",
            "60 conv3_block2_2_relu - False\n",
            "61 conv3_block2_3_conv - False\n",
            "62 conv3_block2_out - False\n",
            "63 conv3_block3_preact_bn - False\n",
            "64 conv3_block3_preact_relu - False\n",
            "65 conv3_block3_1_conv - False\n",
            "66 conv3_block3_1_bn - False\n",
            "67 conv3_block3_1_relu - False\n",
            "68 conv3_block3_2_pad - False\n",
            "69 conv3_block3_2_conv - False\n",
            "70 conv3_block3_2_bn - False\n",
            "71 conv3_block3_2_relu - False\n",
            "72 conv3_block3_3_conv - False\n",
            "73 conv3_block3_out - False\n",
            "74 conv3_block4_preact_bn - False\n",
            "75 conv3_block4_preact_relu - False\n",
            "76 conv3_block4_1_conv - False\n",
            "77 conv3_block4_1_bn - False\n",
            "78 conv3_block4_1_relu - False\n",
            "79 conv3_block4_2_pad - False\n",
            "80 conv3_block4_2_conv - False\n",
            "81 conv3_block4_2_bn - False\n",
            "82 conv3_block4_2_relu - False\n",
            "83 max_pooling2d_1 - False\n",
            "84 conv3_block4_3_conv - False\n",
            "85 conv3_block4_out - False\n",
            "86 conv4_block1_preact_bn - False\n",
            "87 conv4_block1_preact_relu - False\n",
            "88 conv4_block1_1_conv - False\n",
            "89 conv4_block1_1_bn - False\n",
            "90 conv4_block1_1_relu - False\n",
            "91 conv4_block1_2_pad - False\n",
            "92 conv4_block1_2_conv - False\n",
            "93 conv4_block1_2_bn - False\n",
            "94 conv4_block1_2_relu - False\n",
            "95 conv4_block1_0_conv - False\n",
            "96 conv4_block1_3_conv - False\n",
            "97 conv4_block1_out - False\n",
            "98 conv4_block2_preact_bn - False\n",
            "99 conv4_block2_preact_relu - False\n",
            "100 conv4_block2_1_conv - False\n",
            "101 conv4_block2_1_bn - False\n",
            "102 conv4_block2_1_relu - False\n",
            "103 conv4_block2_2_pad - False\n",
            "104 conv4_block2_2_conv - False\n",
            "105 conv4_block2_2_bn - False\n",
            "106 conv4_block2_2_relu - False\n",
            "107 conv4_block2_3_conv - False\n",
            "108 conv4_block2_out - False\n",
            "109 conv4_block3_preact_bn - False\n",
            "110 conv4_block3_preact_relu - False\n",
            "111 conv4_block3_1_conv - False\n",
            "112 conv4_block3_1_bn - False\n",
            "113 conv4_block3_1_relu - False\n",
            "114 conv4_block3_2_pad - False\n",
            "115 conv4_block3_2_conv - False\n",
            "116 conv4_block3_2_bn - False\n",
            "117 conv4_block3_2_relu - False\n",
            "118 conv4_block3_3_conv - False\n",
            "119 conv4_block3_out - False\n",
            "120 conv4_block4_preact_bn - False\n",
            "121 conv4_block4_preact_relu - False\n",
            "122 conv4_block4_1_conv - False\n",
            "123 conv4_block4_1_bn - False\n",
            "124 conv4_block4_1_relu - False\n",
            "125 conv4_block4_2_pad - False\n",
            "126 conv4_block4_2_conv - True\n",
            "127 conv4_block4_2_bn - True\n",
            "128 conv4_block4_2_relu - True\n",
            "129 conv4_block4_3_conv - True\n",
            "130 conv4_block4_out - True\n",
            "131 conv4_block5_preact_bn - True\n",
            "132 conv4_block5_preact_relu - True\n",
            "133 conv4_block5_1_conv - True\n",
            "134 conv4_block5_1_bn - True\n",
            "135 conv4_block5_1_relu - True\n",
            "136 conv4_block5_2_pad - True\n",
            "137 conv4_block5_2_conv - True\n",
            "138 conv4_block5_2_bn - True\n",
            "139 conv4_block5_2_relu - True\n",
            "140 conv4_block5_3_conv - True\n",
            "141 conv4_block5_out - True\n",
            "142 conv4_block6_preact_bn - True\n",
            "143 conv4_block6_preact_relu - True\n",
            "144 conv4_block6_1_conv - True\n",
            "145 conv4_block6_1_bn - True\n",
            "146 conv4_block6_1_relu - True\n",
            "147 conv4_block6_2_pad - True\n",
            "148 conv4_block6_2_conv - True\n",
            "149 conv4_block6_2_bn - True\n",
            "150 conv4_block6_2_relu - True\n",
            "151 max_pooling2d_2 - True\n",
            "152 conv4_block6_3_conv - True\n",
            "153 conv4_block6_out - True\n",
            "154 conv5_block1_preact_bn - True\n",
            "155 conv5_block1_preact_relu - True\n",
            "156 conv5_block1_1_conv - True\n",
            "157 conv5_block1_1_bn - True\n",
            "158 conv5_block1_1_relu - True\n",
            "159 conv5_block1_2_pad - True\n",
            "160 conv5_block1_2_conv - True\n",
            "161 conv5_block1_2_bn - True\n",
            "162 conv5_block1_2_relu - True\n",
            "163 conv5_block1_0_conv - True\n",
            "164 conv5_block1_3_conv - True\n",
            "165 conv5_block1_out - True\n",
            "166 conv5_block2_preact_bn - True\n",
            "167 conv5_block2_preact_relu - True\n",
            "168 conv5_block2_1_conv - True\n",
            "169 conv5_block2_1_bn - True\n",
            "170 conv5_block2_1_relu - True\n",
            "171 conv5_block2_2_pad - True\n",
            "172 conv5_block2_2_conv - True\n",
            "173 conv5_block2_2_bn - True\n",
            "174 conv5_block2_2_relu - True\n",
            "175 conv5_block2_3_conv - True\n",
            "176 conv5_block2_out - True\n",
            "177 conv5_block3_preact_bn - True\n",
            "178 conv5_block3_preact_relu - True\n",
            "179 conv5_block3_1_conv - True\n",
            "180 conv5_block3_1_bn - True\n",
            "181 conv5_block3_1_relu - True\n",
            "182 conv5_block3_2_pad - True\n",
            "183 conv5_block3_2_conv - True\n",
            "184 conv5_block3_2_bn - True\n",
            "185 conv5_block3_2_relu - True\n",
            "186 conv5_block3_3_conv - True\n",
            "187 conv5_block3_out - True\n",
            "188 post_bn - True\n",
            "189 post_relu - True\n"
          ]
        }
      ],
      "source": [
        "base_model = ResNet50V2(include_top=False, weights=\"imagenet\", input_shape=(img_height, img_width, 3))\n",
        "\n",
        "for layer in base_model.layers[:(len(base_model.layers) // 3 * 2)]:\n",
        "    layer.trainable = False\n",
        "\n",
        "for i, layer in enumerate(base_model.layers):\n",
        "    print(i, layer.name, \"-\", layer.trainable)"
      ]
    },
    {
      "cell_type": "code",
      "execution_count": null,
      "metadata": {
        "id": "kQrXVfDdjcWC"
      },
      "outputs": [],
      "source": [
        "model = tf.keras.Sequential([\n",
        "    base_model, \n",
        "    tf.keras.layers.GlobalAveragePooling2D(), \n",
        "    tf.keras.layers.Dense(128, activation='relu'),\n",
        "    tf.keras.layers.BatchNormalization(), \n",
        "    tf.keras.layers.Dropout(0.2), \n",
        "    tf.keras.layers.Dense(3, activation='softmax')\n",
        "])"
      ]
    },
    {
      "cell_type": "code",
      "execution_count": null,
      "metadata": {
        "colab": {
          "base_uri": "https://localhost:8080/"
        },
        "id": "s9PZUS4Njx6G",
        "outputId": "061858b7-0271-46ec-8547-592701c4aed0"
      },
      "outputs": [
        {
          "output_type": "stream",
          "name": "stdout",
          "text": [
            "Model: \"sequential\"\n",
            "_________________________________________________________________\n",
            " Layer (type)                Output Shape              Param #   \n",
            "=================================================================\n",
            " resnet50v2 (Functional)     (None, 15, 15, 2048)      23564800  \n",
            "                                                                 \n",
            " global_average_pooling2d (G  (None, 2048)             0         \n",
            " lobalAveragePooling2D)                                          \n",
            "                                                                 \n",
            " dense (Dense)               (None, 128)               262272    \n",
            "                                                                 \n",
            " batch_normalization (BatchN  (None, 128)              512       \n",
            " ormalization)                                                   \n",
            "                                                                 \n",
            " dropout (Dropout)           (None, 128)               0         \n",
            "                                                                 \n",
            " dense_1 (Dense)             (None, 3)                 387       \n",
            "                                                                 \n",
            "=================================================================\n",
            "Total params: 23,827,971\n",
            "Trainable params: 18,323,715\n",
            "Non-trainable params: 5,504,256\n",
            "_________________________________________________________________\n"
          ]
        }
      ],
      "source": [
        "model.compile(loss='categorical_crossentropy', optimizer=Adam(learning_rate=1e-3), metrics=['accuracy'])\n",
        "model.summary()"
      ]
    },
    {
      "cell_type": "markdown",
      "metadata": {
        "id": "Fp_TIQ7BkZ5u"
      },
      "source": [
        "# Callbacks"
      ]
    },
    {
      "cell_type": "code",
      "execution_count": null,
      "metadata": {
        "id": "KrRPTkQPkQY-"
      },
      "outputs": [],
      "source": [
        "patience = 1\n",
        "stop_patience = 3\n",
        "factor = 0.5\n",
        "callbacks = [\n",
        "    ModelCheckpoint(os.path.join(ROOT_DIR, 'model/resnet.h5'), save_best_only=True, save_weights_only=True, verbose=1),\n",
        "    # EarlyStopping(patience=stop_patience, monitor='val_loss', verbose=1),\n",
        "    ReduceLROnPlateau(monitor='val_loss', factor=factor, patience=patience, verbose=1)\n",
        "]"
      ]
    },
    {
      "cell_type": "markdown",
      "metadata": {
        "id": "YORajlyck_69"
      },
      "source": [
        "# Model Training"
      ]
    },
    {
      "cell_type": "code",
      "execution_count": null,
      "metadata": {
        "colab": {
          "background_save": true,
          "base_uri": "https://localhost:8080/"
        },
        "id": "1ByJHSU5k0VS",
        "outputId": "96d9a58f-3785-4e36-9225-6e42d16827f3"
      },
      "outputs": [
        {
          "name": "stdout",
          "output_type": "stream",
          "text": [
            "2022-09-21 05:17:29.381375\n",
            "Epoch 1/30\n",
            "754/754 [==============================] - ETA: 0s - loss: 0.4584 - accuracy: 0.9145 \n",
            "Epoch 1: val_loss improved from inf to 0.20588, saving model to /content/drive/MyDrive/DTA/Detect-COVID19/model/resnet.h5\n",
            "754/754 [==============================] - 11191s 15s/step - loss: 0.4584 - accuracy: 0.9145 - val_loss: 0.2059 - val_accuracy: 0.9326 - lr: 0.0010\n",
            "Epoch 2/30\n",
            "754/754 [==============================] - ETA: 0s - loss: 0.3173 - accuracy: 0.9459\n",
            "Epoch 2: val_loss improved from 0.20588 to 0.13639, saving model to /content/drive/MyDrive/DTA/Detect-COVID19/model/resnet.h5\n",
            "754/754 [==============================] - 1471s 2s/step - loss: 0.3173 - accuracy: 0.9459 - val_loss: 0.1364 - val_accuracy: 0.9494 - lr: 0.0010\n",
            "Epoch 3/30\n",
            "754/754 [==============================] - ETA: 0s - loss: 0.2813 - accuracy: 0.9518\n",
            "Epoch 3: val_loss improved from 0.13639 to 0.11480, saving model to /content/drive/MyDrive/DTA/Detect-COVID19/model/resnet.h5\n",
            "754/754 [==============================] - 1479s 2s/step - loss: 0.2813 - accuracy: 0.9518 - val_loss: 0.1148 - val_accuracy: 0.9607 - lr: 0.0010\n",
            "Epoch 4/30\n",
            "754/754 [==============================] - ETA: 0s - loss: 0.2482 - accuracy: 0.9581\n",
            "Epoch 4: val_loss did not improve from 0.11480\n",
            "\n",
            "Epoch 4: ReduceLROnPlateau reducing learning rate to 0.0005000000237487257.\n",
            "754/754 [==============================] - 1464s 2s/step - loss: 0.2482 - accuracy: 0.9581 - val_loss: 0.1996 - val_accuracy: 0.9426 - lr: 0.0010\n",
            "Epoch 5/30\n",
            "754/754 [==============================] - ETA: 0s - loss: 0.1954 - accuracy: 0.9680\n",
            "Epoch 5: val_loss did not improve from 0.11480\n",
            "\n",
            "Epoch 5: ReduceLROnPlateau reducing learning rate to 0.0002500000118743628.\n",
            "754/754 [==============================] - 1462s 2s/step - loss: 0.1954 - accuracy: 0.9680 - val_loss: 0.1312 - val_accuracy: 0.9529 - lr: 5.0000e-04\n",
            "Epoch 6/30\n",
            "754/754 [==============================] - ETA: 0s - loss: 0.1451 - accuracy: 0.9781\n",
            "Epoch 6: val_loss improved from 0.11480 to 0.09613, saving model to /content/drive/MyDrive/DTA/Detect-COVID19/model/resnet.h5\n",
            "754/754 [==============================] - 1465s 2s/step - loss: 0.1451 - accuracy: 0.9781 - val_loss: 0.0961 - val_accuracy: 0.9688 - lr: 2.5000e-04\n",
            "Epoch 7/30\n",
            "754/754 [==============================] - ETA: 0s - loss: 0.1302 - accuracy: 0.9795\n",
            "Epoch 7: val_loss did not improve from 0.09613\n",
            "\n",
            "Epoch 7: ReduceLROnPlateau reducing learning rate to 0.0001250000059371814.\n",
            "754/754 [==============================] - 1467s 2s/step - loss: 0.1302 - accuracy: 0.9795 - val_loss: 0.1034 - val_accuracy: 0.9675 - lr: 2.5000e-04\n",
            "Epoch 8/30\n",
            "754/754 [==============================] - ETA: 0s - loss: 0.0963 - accuracy: 0.9848\n",
            "Epoch 8: val_loss improved from 0.09613 to 0.09214, saving model to /content/drive/MyDrive/DTA/Detect-COVID19/model/resnet.h5\n",
            "754/754 [==============================] - 1506s 2s/step - loss: 0.0963 - accuracy: 0.9848 - val_loss: 0.0921 - val_accuracy: 0.9708 - lr: 1.2500e-04\n",
            "Epoch 9/30\n",
            "754/754 [==============================] - ETA: 0s - loss: 0.0805 - accuracy: 0.9876\n",
            "Epoch 9: val_loss did not improve from 0.09214\n",
            "\n",
            "Epoch 9: ReduceLROnPlateau reducing learning rate to 6.25000029685907e-05.\n",
            "754/754 [==============================] - 1516s 2s/step - loss: 0.0805 - accuracy: 0.9876 - val_loss: 0.1045 - val_accuracy: 0.9678 - lr: 1.2500e-04\n",
            "Epoch 10/30\n",
            "754/754 [==============================] - ETA: 0s - loss: 0.0592 - accuracy: 0.9913\n",
            "Epoch 10: val_loss did not improve from 0.09214\n",
            "\n",
            "Epoch 10: ReduceLROnPlateau reducing learning rate to 3.125000148429535e-05.\n",
            "754/754 [==============================] - 1516s 2s/step - loss: 0.0592 - accuracy: 0.9913 - val_loss: 0.1063 - val_accuracy: 0.9698 - lr: 6.2500e-05\n",
            "Epoch 11/30\n",
            "754/754 [==============================] - ETA: 0s - loss: 0.0432 - accuracy: 0.9930\n",
            "Epoch 11: val_loss did not improve from 0.09214\n",
            "\n",
            "Epoch 11: ReduceLROnPlateau reducing learning rate to 1.5625000742147677e-05.\n",
            "754/754 [==============================] - 1512s 2s/step - loss: 0.0432 - accuracy: 0.9930 - val_loss: 0.1059 - val_accuracy: 0.9678 - lr: 3.1250e-05\n",
            "Epoch 12/30\n",
            "754/754 [==============================] - ETA: 0s - loss: 0.0388 - accuracy: 0.9947\n",
            "Epoch 12: val_loss did not improve from 0.09214\n",
            "\n",
            "Epoch 12: ReduceLROnPlateau reducing learning rate to 7.812500371073838e-06.\n",
            "754/754 [==============================] - 1507s 2s/step - loss: 0.0388 - accuracy: 0.9947 - val_loss: 0.1069 - val_accuracy: 0.9721 - lr: 1.5625e-05\n",
            "Epoch 13/30\n",
            "754/754 [==============================] - ETA: 0s - loss: 0.0315 - accuracy: 0.9959\n",
            "Epoch 13: val_loss did not improve from 0.09214\n",
            "\n",
            "Epoch 13: ReduceLROnPlateau reducing learning rate to 3.906250185536919e-06.\n",
            "754/754 [==============================] - 1507s 2s/step - loss: 0.0315 - accuracy: 0.9959 - val_loss: 0.1094 - val_accuracy: 0.9693 - lr: 7.8125e-06\n",
            "Epoch 14/30\n",
            "754/754 [==============================] - ETA: 0s - loss: 0.0333 - accuracy: 0.9954\n",
            "Epoch 14: val_loss did not improve from 0.09214\n",
            "\n",
            "Epoch 14: ReduceLROnPlateau reducing learning rate to 1.9531250927684596e-06.\n",
            "754/754 [==============================] - 1510s 2s/step - loss: 0.0333 - accuracy: 0.9954 - val_loss: 0.1198 - val_accuracy: 0.9686 - lr: 3.9063e-06\n",
            "Epoch 15/30\n",
            "754/754 [==============================] - ETA: 0s - loss: 0.0299 - accuracy: 0.9962\n",
            "Epoch 15: val_loss did not improve from 0.09214\n",
            "\n",
            "Epoch 15: ReduceLROnPlateau reducing learning rate to 9.765625463842298e-07.\n",
            "754/754 [==============================] - 1652s 2s/step - loss: 0.0299 - accuracy: 0.9962 - val_loss: 0.1154 - val_accuracy: 0.9681 - lr: 1.9531e-06\n",
            "Epoch 16/30\n",
            "754/754 [==============================] - ETA: 0s - loss: 0.0310 - accuracy: 0.9959\n",
            "Epoch 16: val_loss did not improve from 0.09214\n",
            "\n",
            "Epoch 16: ReduceLROnPlateau reducing learning rate to 4.882812731921149e-07.\n",
            "754/754 [==============================] - 1723s 2s/step - loss: 0.0310 - accuracy: 0.9959 - val_loss: 0.1134 - val_accuracy: 0.9691 - lr: 9.7656e-07\n",
            "Epoch 17/30\n",
            "754/754 [==============================] - ETA: 0s - loss: 0.0298 - accuracy: 0.9959\n",
            "Epoch 17: val_loss did not improve from 0.09214\n",
            "\n",
            "Epoch 17: ReduceLROnPlateau reducing learning rate to 2.4414063659605745e-07.\n",
            "754/754 [==============================] - 1651s 2s/step - loss: 0.0298 - accuracy: 0.9959 - val_loss: 0.1110 - val_accuracy: 0.9695 - lr: 4.8828e-07\n",
            "Epoch 18/30\n",
            "754/754 [==============================] - ETA: 0s - loss: 0.0306 - accuracy: 0.9957\n",
            "Epoch 18: val_loss did not improve from 0.09214\n",
            "\n",
            "Epoch 18: ReduceLROnPlateau reducing learning rate to 1.2207031829802872e-07.\n",
            "754/754 [==============================] - 1725s 2s/step - loss: 0.0306 - accuracy: 0.9957 - val_loss: 0.1108 - val_accuracy: 0.9696 - lr: 2.4414e-07\n",
            "Epoch 19/30\n",
            "754/754 [==============================] - ETA: 0s - loss: 0.0276 - accuracy: 0.9963\n",
            "Epoch 19: val_loss did not improve from 0.09214\n",
            "\n",
            "Epoch 19: ReduceLROnPlateau reducing learning rate to 6.103515914901436e-08.\n",
            "754/754 [==============================] - 1916s 3s/step - loss: 0.0276 - accuracy: 0.9963 - val_loss: 0.1162 - val_accuracy: 0.9701 - lr: 1.2207e-07\n",
            "Epoch 20/30\n",
            "754/754 [==============================] - ETA: 0s - loss: 0.0315 - accuracy: 0.9955\n",
            "Epoch 20: val_loss did not improve from 0.09214\n",
            "\n",
            "Epoch 20: ReduceLROnPlateau reducing learning rate to 3.051757957450718e-08.\n",
            "754/754 [==============================] - 1457s 2s/step - loss: 0.0315 - accuracy: 0.9955 - val_loss: 0.1146 - val_accuracy: 0.9678 - lr: 6.1035e-08\n",
            "Epoch 21/30\n",
            "754/754 [==============================] - ETA: 0s - loss: 0.0261 - accuracy: 0.9966\n",
            "Epoch 21: val_loss did not improve from 0.09214\n",
            "\n",
            "Epoch 21: ReduceLROnPlateau reducing learning rate to 1.525878978725359e-08.\n",
            "754/754 [==============================] - 1450s 2s/step - loss: 0.0261 - accuracy: 0.9966 - val_loss: 0.1153 - val_accuracy: 0.9703 - lr: 3.0518e-08\n",
            "Epoch 22/30\n",
            "754/754 [==============================] - ETA: 0s - loss: 0.0302 - accuracy: 0.9962\n",
            "Epoch 22: val_loss did not improve from 0.09214\n",
            "\n",
            "Epoch 22: ReduceLROnPlateau reducing learning rate to 7.629394893626795e-09.\n",
            "754/754 [==============================] - 1459s 2s/step - loss: 0.0302 - accuracy: 0.9962 - val_loss: 0.1102 - val_accuracy: 0.9683 - lr: 1.5259e-08\n",
            "Epoch 23/30\n",
            "754/754 [==============================] - ETA: 0s - loss: 0.0267 - accuracy: 0.9968\n",
            "Epoch 23: val_loss did not improve from 0.09214\n",
            "\n",
            "Epoch 23: ReduceLROnPlateau reducing learning rate to 3.814697446813398e-09.\n",
            "754/754 [==============================] - 1459s 2s/step - loss: 0.0267 - accuracy: 0.9968 - val_loss: 0.1121 - val_accuracy: 0.9703 - lr: 7.6294e-09\n",
            "Epoch 24/30\n",
            "754/754 [==============================] - ETA: 0s - loss: 0.0282 - accuracy: 0.9963\n",
            "Epoch 24: val_loss did not improve from 0.09214\n",
            "\n",
            "Epoch 24: ReduceLROnPlateau reducing learning rate to 1.907348723406699e-09.\n",
            "754/754 [==============================] - 1459s 2s/step - loss: 0.0282 - accuracy: 0.9963 - val_loss: 0.1140 - val_accuracy: 0.9686 - lr: 3.8147e-09\n",
            "Epoch 25/30\n",
            "754/754 [==============================] - ETA: 0s - loss: 0.0300 - accuracy: 0.9956\n",
            "Epoch 25: val_loss did not improve from 0.09214\n",
            "\n",
            "Epoch 25: ReduceLROnPlateau reducing learning rate to 9.536743617033494e-10.\n",
            "754/754 [==============================] - 1492s 2s/step - loss: 0.0300 - accuracy: 0.9956 - val_loss: 0.1140 - val_accuracy: 0.9681 - lr: 1.9073e-09\n",
            "Epoch 26/30\n",
            "754/754 [==============================] - ETA: 0s - loss: 0.0289 - accuracy: 0.9961\n",
            "Epoch 26: val_loss did not improve from 0.09214\n",
            "\n",
            "Epoch 26: ReduceLROnPlateau reducing learning rate to 4.768371808516747e-10.\n",
            "754/754 [==============================] - 1461s 2s/step - loss: 0.0289 - accuracy: 0.9961 - val_loss: 0.1145 - val_accuracy: 0.9695 - lr: 9.5367e-10\n",
            "Epoch 27/30\n",
            "754/754 [==============================] - ETA: 0s - loss: 0.0294 - accuracy: 0.9956\n",
            "Epoch 27: val_loss did not improve from 0.09214\n",
            "\n",
            "Epoch 27: ReduceLROnPlateau reducing learning rate to 2.3841859042583735e-10.\n",
            "754/754 [==============================] - 1464s 2s/step - loss: 0.0294 - accuracy: 0.9956 - val_loss: 0.1084 - val_accuracy: 0.9690 - lr: 4.7684e-10\n",
            "Epoch 28/30\n",
            "754/754 [==============================] - ETA: 0s - loss: 0.0315 - accuracy: 0.9957\n",
            "Epoch 28: val_loss did not improve from 0.09214\n",
            "\n",
            "Epoch 28: ReduceLROnPlateau reducing learning rate to 1.1920929521291868e-10.\n",
            "754/754 [==============================] - 1766s 2s/step - loss: 0.0315 - accuracy: 0.9957 - val_loss: 0.1152 - val_accuracy: 0.9690 - lr: 2.3842e-10\n",
            "Epoch 29/30\n",
            "754/754 [==============================] - ETA: 0s - loss: 0.0301 - accuracy: 0.9961\n",
            "Epoch 29: val_loss did not improve from 0.09214\n",
            "\n",
            "Epoch 29: ReduceLROnPlateau reducing learning rate to 5.960464760645934e-11.\n",
            "754/754 [==============================] - 1463s 2s/step - loss: 0.0301 - accuracy: 0.9961 - val_loss: 0.1096 - val_accuracy: 0.9701 - lr: 1.1921e-10\n",
            "Epoch 30/30\n",
            "754/754 [==============================] - ETA: 0s - loss: 0.0298 - accuracy: 0.9957\n",
            "Epoch 30: val_loss did not improve from 0.09214\n",
            "\n",
            "Epoch 30: ReduceLROnPlateau reducing learning rate to 2.980232380322967e-11.\n",
            "754/754 [==============================] - 1477s 2s/step - loss: 0.0298 - accuracy: 0.9957 - val_loss: 0.1106 - val_accuracy: 0.9680 - lr: 5.9605e-11\n",
            "2022-09-21 20:45:08.928354\n"
          ]
        }
      ],
      "source": [
        "epochs = 30\n",
        "print(datetime.datetime.now())\n",
        "history = model.fit(train_generator, validation_data=validation_generator, class_weight=class_weights, epochs=epochs, callbacks=callbacks, verbose=1)\n",
        "print(datetime.datetime.now())"
      ]
    },
    {
      "cell_type": "code",
      "execution_count": null,
      "metadata": {
        "colab": {
          "background_save": true
        },
        "id": "EMcx0qpi3wIw"
      },
      "outputs": [],
      "source": [
        "with open(os.path.join(ROOT_DIR, 'history_dict_resnet.pkl'), 'wb') as file_pi:\n",
        "    pickle.dump(history.history, file_pi)"
      ]
    }
  ],
  "metadata": {
    "colab": {
      "collapsed_sections": [],
      "machine_shape": "hm",
      "provenance": []
    },
    "kernelspec": {
      "display_name": "Python 3",
      "language": "python",
      "name": "python3"
    },
    "language_info": {
      "codemirror_mode": {
        "name": "ipython",
        "version": 3
      },
      "file_extension": ".py",
      "mimetype": "text/x-python",
      "name": "python",
      "nbconvert_exporter": "python",
      "pygments_lexer": "ipython3",
      "version": "3.9.5"
    }
  },
  "nbformat": 4,
  "nbformat_minor": 0
}