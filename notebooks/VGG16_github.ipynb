{
  "cells": [
    {
      "cell_type": "code",
      "execution_count": null,
      "metadata": {
        "colab": {
          "base_uri": "https://localhost:8080/"
        },
        "id": "p6eLYawPi5WZ",
        "outputId": "89d89c79-9f10-4887-b715-0b3f8cdd7e37"
      },
      "outputs": [
        {
          "output_type": "stream",
          "name": "stdout",
          "text": [
            "Mounted at /content/drive\n"
          ]
        }
      ],
      "source": [
        "from google.colab import drive\n",
        "drive.mount('/content/drive')"
      ]
    },
    {
      "cell_type": "code",
      "execution_count": null,
      "metadata": {
        "id": "HvrN1LLmJKro"
      },
      "outputs": [],
      "source": [
        "import numpy as np\n",
        "import matplotlib.pyplot as plt\n",
        "import os\n",
        "import seaborn as sns\n",
        "sns.set_style('darkgrid')\n",
        "from sklearn.metrics import confusion_matrix, classification_report\n",
        "from collections import Counter\n",
        "import pickle\n",
        "import datetime\n",
        "\n",
        "import tensorflow as tf\n",
        "from tensorflow.keras.layers import Conv2D,Flatten,MaxPool2D,BatchNormalization,GlobalAveragePooling2D, Dense, Dropout\n",
        "from tensorflow.keras.callbacks import EarlyStopping, ModelCheckpoint, ReduceLROnPlateau\n",
        "from tensorflow.keras.optimizers import Adam\n",
        "from tensorflow.keras.preprocessing.image import ImageDataGenerator\n",
        "from tensorflow.keras.applications import VGG16\n",
        "from keras.models import load_model"
      ]
    },
    {
      "cell_type": "code",
      "execution_count": null,
      "metadata": {
        "id": "49ge4OoX5bX1"
      },
      "outputs": [],
      "source": [
        "ROOT_DIR = _YOUR_DIR_\n",
        "TRAIN_PATH = os.path.join(ROOT_DIR, 'dataset/train')\n",
        "TEST_PATH = os.path.join(ROOT_DIR, 'dataset/test')"
      ]
    },
    {
      "cell_type": "markdown",
      "metadata": {
        "id": "1iivWWhAgjM2"
      },
      "source": [
        "# Image Data Generators"
      ]
    },
    {
      "cell_type": "code",
      "execution_count": null,
      "metadata": {
        "id": "WrjpfEOwrA36"
      },
      "outputs": [],
      "source": [
        "batch_size = 32\n",
        "img_height = 480\n",
        "img_width = 480\n",
        "target_size = (img_height, img_width)"
      ]
    },
    {
      "cell_type": "code",
      "execution_count": null,
      "metadata": {
        "id": "AEpQjT0x4S-x"
      },
      "outputs": [],
      "source": [
        "train_datagen = ImageDataGenerator(\n",
        "        rescale=1./255,\n",
        "        shear_range=0.2,\n",
        "        zoom_range=0.2,\n",
        "        horizontal_flip=False,\n",
        "        validation_split=0.2)\n",
        "test_datagen = ImageDataGenerator(rescale=1./255)"
      ]
    },
    {
      "cell_type": "code",
      "execution_count": null,
      "metadata": {
        "colab": {
          "base_uri": "https://localhost:8080/"
        },
        "id": "DhRmO2bl0H_0",
        "outputId": "110c5a69-93e8-4d07-fb43-af3dfebf848f"
      },
      "outputs": [
        {
          "output_type": "stream",
          "name": "stdout",
          "text": [
            "Found 24104 images belonging to 3 classes.\n",
            "Found 6026 images belonging to 3 classes.\n",
            "Found 400 images belonging to 3 classes.\n"
          ]
        }
      ],
      "source": [
        "train_generator = train_datagen.flow_from_directory(\n",
        "        TRAIN_PATH,\n",
        "        target_size=target_size,\n",
        "        batch_size=batch_size,\n",
        "        class_mode='categorical', \n",
        "        color_mode='rgb',\n",
        "        subset='training')\n",
        "\n",
        "validation_generator = train_datagen.flow_from_directory(\n",
        "    TRAIN_PATH, \n",
        "    target_size=target_size,\n",
        "    batch_size=batch_size,\n",
        "    class_mode='categorical', \n",
        "    color_mode='rgb',\n",
        "    subset='validation') \n",
        "\n",
        "\n",
        "test_generator = test_datagen.flow_from_directory(\n",
        "        TEST_PATH,\n",
        "        target_size=target_size,\n",
        "        batch_size=batch_size,\n",
        "        class_mode='categorical', \n",
        "        color_mode='rgb',\n",
        "        shuffle=False)"
      ]
    },
    {
      "cell_type": "code",
      "execution_count": null,
      "metadata": {
        "id": "J31pnzf81BFu"
      },
      "outputs": [],
      "source": [
        "counter = Counter(train_generator.classes)                          \n",
        "max_val = float(max(counter.values()))       \n",
        "class_weights = {class_id : max_val/num_images for class_id, num_images in counter.items()}                     "
      ]
    },
    {
      "cell_type": "code",
      "execution_count": null,
      "metadata": {
        "colab": {
          "base_uri": "https://localhost:8080/"
        },
        "id": "IBy28L2m12RA",
        "outputId": "8b27adef-1cd4-4032-d0ed-840c19c81860"
      },
      "outputs": [
        {
          "output_type": "stream",
          "name": "stdout",
          "text": [
            "{'COVID-19': 0, 'normal': 1, 'pneumonia': 2}\n",
            "Counter({0: 13192, 1: 6468, 2: 4444})\n",
            "{0: 1.0, 1: 2.0395794681508965, 2: 2.9684968496849686}\n"
          ]
        }
      ],
      "source": [
        "print(train_generator.class_indices)\n",
        "print(counter)\n",
        "print(class_weights)"
      ]
    },
    {
      "cell_type": "markdown",
      "metadata": {
        "id": "uUmEb9kzieWG"
      },
      "source": [
        "# Create Model"
      ]
    },
    {
      "cell_type": "code",
      "execution_count": null,
      "metadata": {
        "colab": {
          "base_uri": "https://localhost:8080/"
        },
        "id": "9p8cpBnQiduA",
        "outputId": "2e501381-15bd-4b5d-e83f-c9024a7e7d4c"
      },
      "outputs": [
        {
          "output_type": "stream",
          "name": "stdout",
          "text": [
            "Downloading data from https://storage.googleapis.com/tensorflow/keras-applications/vgg16/vgg16_weights_tf_dim_ordering_tf_kernels_notop.h5\n",
            "58892288/58889256 [==============================] - 0s 0us/step\n",
            "58900480/58889256 [==============================] - 0s 0us/step\n",
            "0 input_1 - False\n",
            "1 block1_conv1 - False\n",
            "2 block1_conv2 - False\n",
            "3 block1_pool - False\n",
            "4 block2_conv1 - False\n",
            "5 block2_conv2 - False\n",
            "6 block2_pool - False\n",
            "7 block3_conv1 - False\n",
            "8 block3_conv2 - False\n",
            "9 block3_conv3 - False\n",
            "10 block3_pool - False\n",
            "11 block4_conv1 - False\n",
            "12 block4_conv2 - True\n",
            "13 block4_conv3 - True\n",
            "14 block4_pool - True\n",
            "15 block5_conv1 - True\n",
            "16 block5_conv2 - True\n",
            "17 block5_conv3 - True\n",
            "18 block5_pool - True\n"
          ]
        }
      ],
      "source": [
        "base_model = VGG16(include_top=False, weights=\"imagenet\", input_shape=(img_height, img_width, 3))\n",
        "\n",
        "for layer in base_model.layers[:(len(base_model.layers) // 3 * 2)]:\n",
        "    layer.trainable = False\n",
        "\n",
        "for i, layer in enumerate(base_model.layers):\n",
        "    print(i, layer.name, \"-\", layer.trainable)"
      ]
    },
    {
      "cell_type": "code",
      "execution_count": null,
      "metadata": {
        "id": "kQrXVfDdjcWC"
      },
      "outputs": [],
      "source": [
        "model = tf.keras.Sequential([\n",
        "    base_model, \n",
        "    tf.keras.layers.GlobalAveragePooling2D(), \n",
        "    tf.keras.layers.Dense(128, activation='relu'),\n",
        "    tf.keras.layers.BatchNormalization(), \n",
        "    tf.keras.layers.Dropout(0.2), \n",
        "    tf.keras.layers.Dense(3, activation='softmax')\n",
        "])"
      ]
    },
    {
      "cell_type": "code",
      "execution_count": null,
      "metadata": {
        "colab": {
          "base_uri": "https://localhost:8080/"
        },
        "id": "s9PZUS4Njx6G",
        "outputId": "ea9aeea2-a464-45bd-e3b9-c4f9a954e0fc"
      },
      "outputs": [
        {
          "output_type": "stream",
          "name": "stdout",
          "text": [
            "Model: \"sequential\"\n",
            "_________________________________________________________________\n",
            " Layer (type)                Output Shape              Param #   \n",
            "=================================================================\n",
            " vgg16 (Functional)          (None, 15, 15, 512)       14714688  \n",
            "                                                                 \n",
            " global_average_pooling2d (G  (None, 512)              0         \n",
            " lobalAveragePooling2D)                                          \n",
            "                                                                 \n",
            " dense (Dense)               (None, 128)               65664     \n",
            "                                                                 \n",
            " batch_normalization (BatchN  (None, 128)              512       \n",
            " ormalization)                                                   \n",
            "                                                                 \n",
            " dropout (Dropout)           (None, 128)               0         \n",
            "                                                                 \n",
            " dense_1 (Dense)             (None, 3)                 387       \n",
            "                                                                 \n",
            "=================================================================\n",
            "Total params: 14,781,251\n",
            "Trainable params: 11,865,347\n",
            "Non-trainable params: 2,915,904\n",
            "_________________________________________________________________\n"
          ]
        }
      ],
      "source": [
        "model.compile(loss='categorical_crossentropy', optimizer=Adam(learning_rate=1e-3), metrics=['accuracy'])\n",
        "model.summary()"
      ]
    },
    {
      "cell_type": "markdown",
      "metadata": {
        "id": "Fp_TIQ7BkZ5u"
      },
      "source": [
        "# Callbacks"
      ]
    },
    {
      "cell_type": "code",
      "execution_count": null,
      "metadata": {
        "id": "KrRPTkQPkQY-"
      },
      "outputs": [],
      "source": [
        "patience = 1\n",
        "stop_patience = 3\n",
        "factor = 0.5\n",
        "callbacks = [\n",
        "    ModelCheckpoint(os.path.join(ROOT_DIR, 'model/vgg.h5'), save_best_only=True, save_weights_only=True, verbose=1),\n",
        "    # EarlyStopping(patience=stop_patience, monitor='val_loss', verbose=1),\n",
        "    ReduceLROnPlateau(monitor='val_loss', factor=factor, patience=patience, verbose=1)\n",
        "]"
      ]
    },
    {
      "cell_type": "markdown",
      "metadata": {
        "id": "YORajlyck_69"
      },
      "source": [
        "# Model Training"
      ]
    },
    {
      "cell_type": "code",
      "execution_count": null,
      "metadata": {
        "colab": {
          "background_save": true,
          "base_uri": "https://localhost:8080/"
        },
        "id": "1ByJHSU5k0VS",
        "outputId": "70f3744d-382d-4304-8c35-f07a5c3703e8"
      },
      "outputs": [
        {
          "name": "stdout",
          "output_type": "stream",
          "text": [
            "2022-09-19 11:45:42.579630\n",
            "Epoch 1/30\n",
            "754/754 [==============================] - ETA: 0s - loss: 0.9537 - accuracy: 0.7713 \n",
            "Epoch 1: val_loss improved from inf to 19326.79102, saving model to /content/drive/MyDrive/DTA/Detect-COVID19/model/vgg.h5\n",
            "754/754 [==============================] - 15577s 21s/step - loss: 0.9537 - accuracy: 0.7713 - val_loss: 19326.7910 - val_accuracy: 0.2683 - lr: 0.0010\n",
            "Epoch 2/30\n",
            "754/754 [==============================] - ETA: 0s - loss: 0.5913 - accuracy: 0.8808\n",
            "Epoch 2: val_loss improved from 19326.79102 to 2.12183, saving model to /content/drive/MyDrive/DTA/Detect-COVID19/model/vgg.h5\n",
            "754/754 [==============================] - 1604s 2s/step - loss: 0.5913 - accuracy: 0.8808 - val_loss: 2.1218 - val_accuracy: 0.4544 - lr: 0.0010\n",
            "Epoch 3/30\n",
            "754/754 [==============================] - ETA: 0s - loss: 0.4897 - accuracy: 0.9036\n",
            "Epoch 3: val_loss improved from 2.12183 to 1.37114, saving model to /content/drive/MyDrive/DTA/Detect-COVID19/model/vgg.h5\n",
            "754/754 [==============================] - 1600s 2s/step - loss: 0.4897 - accuracy: 0.9036 - val_loss: 1.3711 - val_accuracy: 0.6482 - lr: 0.0010\n",
            "Epoch 4/30\n",
            "754/754 [==============================] - ETA: 0s - loss: 0.4643 - accuracy: 0.9125\n",
            "Epoch 4: val_loss improved from 1.37114 to 0.27847, saving model to /content/drive/MyDrive/DTA/Detect-COVID19/model/vgg.h5\n",
            "754/754 [==============================] - 1602s 2s/step - loss: 0.4643 - accuracy: 0.9125 - val_loss: 0.2785 - val_accuracy: 0.8943 - lr: 0.0010\n",
            "Epoch 5/30\n",
            "754/754 [==============================] - ETA: 0s - loss: 0.4392 - accuracy: 0.9163\n",
            "Epoch 5: val_loss did not improve from 0.27847\n",
            "\n",
            "Epoch 5: ReduceLROnPlateau reducing learning rate to 0.0005000000237487257.\n",
            "754/754 [==============================] - 1610s 2s/step - loss: 0.4392 - accuracy: 0.9163 - val_loss: 1.7681 - val_accuracy: 0.6301 - lr: 0.0010\n",
            "Epoch 6/30\n",
            "754/754 [==============================] - ETA: 0s - loss: 0.3837 - accuracy: 0.9302\n",
            "Epoch 6: val_loss did not improve from 0.27847\n",
            "\n",
            "Epoch 6: ReduceLROnPlateau reducing learning rate to 0.0002500000118743628.\n",
            "754/754 [==============================] - 1645s 2s/step - loss: 0.3837 - accuracy: 0.9302 - val_loss: 0.4004 - val_accuracy: 0.8613 - lr: 5.0000e-04\n",
            "Epoch 7/30\n",
            "754/754 [==============================] - ETA: 0s - loss: 0.3479 - accuracy: 0.9365\n",
            "Epoch 7: val_loss improved from 0.27847 to 0.18976, saving model to /content/drive/MyDrive/DTA/Detect-COVID19/model/vgg.h5\n",
            "754/754 [==============================] - 1571s 2s/step - loss: 0.3479 - accuracy: 0.9365 - val_loss: 0.1898 - val_accuracy: 0.9300 - lr: 2.5000e-04\n",
            "Epoch 8/30\n",
            "754/754 [==============================] - ETA: 0s - loss: 0.3452 - accuracy: 0.9388\n",
            "Epoch 8: val_loss did not improve from 0.18976\n",
            "\n",
            "Epoch 8: ReduceLROnPlateau reducing learning rate to 0.0001250000059371814.\n",
            "754/754 [==============================] - 1568s 2s/step - loss: 0.3452 - accuracy: 0.9388 - val_loss: 0.3938 - val_accuracy: 0.8712 - lr: 2.5000e-04\n",
            "Epoch 9/30\n",
            "754/754 [==============================] - ETA: 0s - loss: 0.3272 - accuracy: 0.9415\n",
            "Epoch 9: val_loss did not improve from 0.18976\n",
            "\n",
            "Epoch 9: ReduceLROnPlateau reducing learning rate to 6.25000029685907e-05.\n",
            "754/754 [==============================] - 1581s 2s/step - loss: 0.3272 - accuracy: 0.9415 - val_loss: 0.1931 - val_accuracy: 0.9300 - lr: 1.2500e-04\n",
            "Epoch 10/30\n",
            "754/754 [==============================] - ETA: 0s - loss: 0.3187 - accuracy: 0.9440\n",
            "Epoch 10: val_loss improved from 0.18976 to 0.14418, saving model to /content/drive/MyDrive/DTA/Detect-COVID19/model/vgg.h5\n",
            "754/754 [==============================] - 1575s 2s/step - loss: 0.3187 - accuracy: 0.9440 - val_loss: 0.1442 - val_accuracy: 0.9466 - lr: 6.2500e-05\n",
            "Epoch 11/30\n",
            "754/754 [==============================] - ETA: 0s - loss: 0.3116 - accuracy: 0.9465\n",
            "Epoch 11: val_loss improved from 0.14418 to 0.12714, saving model to /content/drive/MyDrive/DTA/Detect-COVID19/model/vgg.h5\n",
            "754/754 [==============================] - 1612s 2s/step - loss: 0.3116 - accuracy: 0.9465 - val_loss: 0.1271 - val_accuracy: 0.9519 - lr: 6.2500e-05\n",
            "Epoch 12/30\n",
            "754/754 [==============================] - ETA: 0s - loss: 0.3041 - accuracy: 0.9466\n",
            "Epoch 12: val_loss did not improve from 0.12714\n",
            "\n",
            "Epoch 12: ReduceLROnPlateau reducing learning rate to 3.125000148429535e-05.\n",
            "754/754 [==============================] - 1587s 2s/step - loss: 0.3041 - accuracy: 0.9466 - val_loss: 0.2263 - val_accuracy: 0.9228 - lr: 6.2500e-05\n",
            "Epoch 13/30\n",
            "754/754 [==============================] - ETA: 0s - loss: 0.3040 - accuracy: 0.9477\n",
            "Epoch 13: val_loss did not improve from 0.12714\n",
            "\n",
            "Epoch 13: ReduceLROnPlateau reducing learning rate to 1.5625000742147677e-05.\n",
            "754/754 [==============================] - 1583s 2s/step - loss: 0.3040 - accuracy: 0.9477 - val_loss: 0.1305 - val_accuracy: 0.9509 - lr: 3.1250e-05\n",
            "Epoch 14/30\n",
            "754/754 [==============================] - ETA: 0s - loss: 0.3023 - accuracy: 0.9481\n",
            "Epoch 14: val_loss did not improve from 0.12714\n",
            "\n",
            "Epoch 14: ReduceLROnPlateau reducing learning rate to 7.812500371073838e-06.\n",
            "754/754 [==============================] - 1593s 2s/step - loss: 0.3023 - accuracy: 0.9481 - val_loss: 0.1328 - val_accuracy: 0.9486 - lr: 1.5625e-05\n",
            "Epoch 15/30\n",
            "754/754 [==============================] - ETA: 0s - loss: 0.2959 - accuracy: 0.9490\n",
            "Epoch 15: val_loss did not improve from 0.12714\n",
            "\n",
            "Epoch 15: ReduceLROnPlateau reducing learning rate to 3.906250185536919e-06.\n",
            "754/754 [==============================] - 1584s 2s/step - loss: 0.2959 - accuracy: 0.9490 - val_loss: 0.1338 - val_accuracy: 0.9491 - lr: 7.8125e-06\n",
            "Epoch 16/30\n",
            "754/754 [==============================] - ETA: 0s - loss: 0.2948 - accuracy: 0.9483\n",
            "Epoch 16: val_loss did not improve from 0.12714\n",
            "\n",
            "Epoch 16: ReduceLROnPlateau reducing learning rate to 1.9531250927684596e-06.\n",
            "754/754 [==============================] - 1582s 2s/step - loss: 0.2948 - accuracy: 0.9483 - val_loss: 0.1402 - val_accuracy: 0.9464 - lr: 3.9063e-06\n",
            "Epoch 17/30\n",
            "754/754 [==============================] - ETA: 0s - loss: 0.3033 - accuracy: 0.9480\n",
            "Epoch 17: val_loss did not improve from 0.12714\n",
            "\n",
            "Epoch 17: ReduceLROnPlateau reducing learning rate to 9.765625463842298e-07.\n",
            "754/754 [==============================] - 1596s 2s/step - loss: 0.3033 - accuracy: 0.9480 - val_loss: 0.1318 - val_accuracy: 0.9492 - lr: 1.9531e-06\n",
            "Epoch 18/30\n",
            "754/754 [==============================] - ETA: 0s - loss: 0.2906 - accuracy: 0.9486\n",
            "Epoch 18: val_loss did not improve from 0.12714\n",
            "\n",
            "Epoch 18: ReduceLROnPlateau reducing learning rate to 4.882812731921149e-07.\n",
            "754/754 [==============================] - 1607s 2s/step - loss: 0.2906 - accuracy: 0.9486 - val_loss: 0.1335 - val_accuracy: 0.9497 - lr: 9.7656e-07\n",
            "Epoch 19/30\n",
            "754/754 [==============================] - ETA: 0s - loss: 0.2989 - accuracy: 0.9481\n",
            "Epoch 19: val_loss did not improve from 0.12714\n",
            "\n",
            "Epoch 19: ReduceLROnPlateau reducing learning rate to 2.4414063659605745e-07.\n",
            "754/754 [==============================] - 1588s 2s/step - loss: 0.2989 - accuracy: 0.9481 - val_loss: 0.1369 - val_accuracy: 0.9481 - lr: 4.8828e-07\n",
            "Epoch 20/30\n",
            "754/754 [==============================] - ETA: 0s - loss: 0.2995 - accuracy: 0.9471\n",
            "Epoch 20: val_loss did not improve from 0.12714\n",
            "\n",
            "Epoch 20: ReduceLROnPlateau reducing learning rate to 1.2207031829802872e-07.\n",
            "754/754 [==============================] - 1586s 2s/step - loss: 0.2995 - accuracy: 0.9471 - val_loss: 0.1332 - val_accuracy: 0.9489 - lr: 2.4414e-07\n",
            "Epoch 21/30\n",
            "754/754 [==============================] - ETA: 0s - loss: 0.2971 - accuracy: 0.9498\n",
            "Epoch 21: val_loss did not improve from 0.12714\n",
            "\n",
            "Epoch 21: ReduceLROnPlateau reducing learning rate to 6.103515914901436e-08.\n",
            "754/754 [==============================] - 1571s 2s/step - loss: 0.2971 - accuracy: 0.9498 - val_loss: 0.1371 - val_accuracy: 0.9479 - lr: 1.2207e-07\n",
            "Epoch 22/30\n",
            "754/754 [==============================] - ETA: 0s - loss: 0.2939 - accuracy: 0.9486\n",
            "Epoch 22: val_loss did not improve from 0.12714\n",
            "\n",
            "Epoch 22: ReduceLROnPlateau reducing learning rate to 3.051757957450718e-08.\n",
            "754/754 [==============================] - 1570s 2s/step - loss: 0.2939 - accuracy: 0.9486 - val_loss: 0.1361 - val_accuracy: 0.9484 - lr: 6.1035e-08\n",
            "Epoch 23/30\n",
            "754/754 [==============================] - ETA: 0s - loss: 0.2982 - accuracy: 0.9481\n",
            "Epoch 23: val_loss did not improve from 0.12714\n",
            "\n",
            "Epoch 23: ReduceLROnPlateau reducing learning rate to 1.525878978725359e-08.\n",
            "754/754 [==============================] - 1568s 2s/step - loss: 0.2982 - accuracy: 0.9481 - val_loss: 0.1340 - val_accuracy: 0.9491 - lr: 3.0518e-08\n",
            "Epoch 24/30\n",
            "754/754 [==============================] - ETA: 0s - loss: 0.2982 - accuracy: 0.9483\n",
            "Epoch 24: val_loss did not improve from 0.12714\n",
            "\n",
            "Epoch 24: ReduceLROnPlateau reducing learning rate to 7.629394893626795e-09.\n",
            "754/754 [==============================] - 1570s 2s/step - loss: 0.2982 - accuracy: 0.9483 - val_loss: 0.1403 - val_accuracy: 0.9456 - lr: 1.5259e-08\n",
            "Epoch 25/30\n",
            "754/754 [==============================] - ETA: 0s - loss: 0.2963 - accuracy: 0.9493\n",
            "Epoch 25: val_loss did not improve from 0.12714\n",
            "\n",
            "Epoch 25: ReduceLROnPlateau reducing learning rate to 3.814697446813398e-09.\n",
            "754/754 [==============================] - 1563s 2s/step - loss: 0.2963 - accuracy: 0.9493 - val_loss: 0.1358 - val_accuracy: 0.9492 - lr: 7.6294e-09\n",
            "Epoch 26/30\n",
            "754/754 [==============================] - ETA: 0s - loss: 0.2979 - accuracy: 0.9491\n",
            "Epoch 26: val_loss did not improve from 0.12714\n",
            "\n",
            "Epoch 26: ReduceLROnPlateau reducing learning rate to 1.907348723406699e-09.\n",
            "754/754 [==============================] - 1576s 2s/step - loss: 0.2979 - accuracy: 0.9491 - val_loss: 0.1395 - val_accuracy: 0.9471 - lr: 3.8147e-09\n",
            "Epoch 27/30\n",
            "754/754 [==============================] - ETA: 0s - loss: 0.2946 - accuracy: 0.9488\n",
            "Epoch 27: val_loss did not improve from 0.12714\n",
            "\n",
            "Epoch 27: ReduceLROnPlateau reducing learning rate to 9.536743617033494e-10.\n",
            "754/754 [==============================] - 1564s 2s/step - loss: 0.2946 - accuracy: 0.9488 - val_loss: 0.1370 - val_accuracy: 0.9472 - lr: 1.9073e-09\n",
            "Epoch 28/30\n",
            "754/754 [==============================] - ETA: 0s - loss: 0.3009 - accuracy: 0.9490\n",
            "Epoch 28: val_loss did not improve from 0.12714\n",
            "\n",
            "Epoch 28: ReduceLROnPlateau reducing learning rate to 4.768371808516747e-10.\n",
            "754/754 [==============================] - 1568s 2s/step - loss: 0.3009 - accuracy: 0.9490 - val_loss: 0.1316 - val_accuracy: 0.9494 - lr: 9.5367e-10\n",
            "Epoch 29/30\n",
            "754/754 [==============================] - ETA: 0s - loss: 0.2899 - accuracy: 0.9489\n",
            "Epoch 29: val_loss did not improve from 0.12714\n",
            "\n",
            "Epoch 29: ReduceLROnPlateau reducing learning rate to 2.3841859042583735e-10.\n",
            "754/754 [==============================] - 1570s 2s/step - loss: 0.2899 - accuracy: 0.9489 - val_loss: 0.1374 - val_accuracy: 0.9486 - lr: 4.7684e-10\n",
            "Epoch 30/30\n",
            "754/754 [==============================] - ETA: 0s - loss: 0.2939 - accuracy: 0.9496\n",
            "Epoch 30: val_loss did not improve from 0.12714\n",
            "\n",
            "Epoch 30: ReduceLROnPlateau reducing learning rate to 1.1920929521291868e-10.\n",
            "754/754 [==============================] - 1576s 2s/step - loss: 0.2939 - accuracy: 0.9496 - val_loss: 0.1366 - val_accuracy: 0.9482 - lr: 2.3842e-10\n",
            "2022-09-20 04:51:47.384192\n"
          ]
        }
      ],
      "source": [
        "epochs = 30\n",
        "print(datetime.datetime.now())\n",
        "history = model.fit(train_generator, validation_data=validation_generator, class_weight=class_weights, epochs=epochs, callbacks=callbacks, verbose=1)\n",
        "print(datetime.datetime.now())"
      ]
    },
    {
      "cell_type": "code",
      "execution_count": null,
      "metadata": {
        "colab": {
          "background_save": true
        },
        "id": "EMcx0qpi3wIw"
      },
      "outputs": [],
      "source": [
        "with open(os.path.join(ROOT_DIR, 'history_dict_vgg.pkl'), 'wb') as file_pi:\n",
        "    pickle.dump(history.history, file_pi)"
      ]
    },
    {
      "cell_type": "code",
      "source": [
        "pickle_in = open(os.path.join(ROOT_DIR, 'history_dict_resnet.pkl'), \"rb\")\n",
        "dict_log = pickle.load(pickle_in)"
      ],
      "metadata": {
        "id": "0xY6R3EUPORa"
      },
      "execution_count": null,
      "outputs": []
    }
  ],
  "metadata": {
    "accelerator": "GPU",
    "colab": {
      "collapsed_sections": [],
      "machine_shape": "hm",
      "provenance": []
    },
    "kernelspec": {
      "display_name": "Python 3",
      "language": "python",
      "name": "python3"
    },
    "language_info": {
      "codemirror_mode": {
        "name": "ipython",
        "version": 3
      },
      "file_extension": ".py",
      "mimetype": "text/x-python",
      "name": "python",
      "nbconvert_exporter": "python",
      "pygments_lexer": "ipython3",
      "version": "3.9.5"
    }
  },
  "nbformat": 4,
  "nbformat_minor": 0
}